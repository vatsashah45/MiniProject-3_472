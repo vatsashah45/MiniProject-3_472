{
 "cells": [
  {
   "cell_type": "code",
   "execution_count": null,
   "id": "a29c00b8",
   "metadata": {},
   "outputs": [],
   "source": [
    "import gensim.downloader\n",
    "import pandas as pd\n",
    "import numpy as np\n",
    "import random\n",
    "import matplotlib.pyplot as plt"
   ]
  },
  {
   "cell_type": "code",
   "execution_count": null,
   "id": "d9edfca5",
   "metadata": {},
   "outputs": [],
   "source": [
    "print(list(gensim.downloader.info()['models'].keys()))"
   ]
  },
  {
   "cell_type": "code",
   "execution_count": null,
   "id": "653410cc",
   "metadata": {},
   "outputs": [],
   "source": [
    "data = pd.read_csv('synonyms.csv', sep=\",\",header=0)\n",
    "data"
   ]
  },
  {
   "cell_type": "code",
   "execution_count": null,
   "id": "a03ca8f4",
   "metadata": {},
   "outputs": [],
   "source": [
    "models = ['word2vec-google-news-300', \n",
    "          'glove-wiki-gigaword-300', 'fasttext-wiki-news-subwords-300',\n",
    "          'glove-twitter-200', 'glove-twitter-100']\n",
    "performances = {model:[] for model in models}\n",
    "for model in models:\n",
    "    word2vec = gensim.downloader.load(model)\n",
    "    L_pred = []\n",
    "    for row in data.iterrows():\n",
    "        if row[1][\"question\"] in word2vec.key_to_index and row[1][\"answer\"] in word2vec.key_to_index:\n",
    "            prediction = []\n",
    "            if row[1][\"0\"] in word2vec.key_to_index:\n",
    "                prediction.append([row[1]['0'], word2vec.similarity(row[1]['0'], row[1]['question'])]) \n",
    "\n",
    "            if row[1][\"1\"] in word2vec.key_to_index:\n",
    "                prediction.append([row[1]['1'], word2vec.similarity(row[1]['1'], row[1]['question'])])\n",
    "\n",
    "            if row[1][\"2\"] in word2vec.key_to_index:\n",
    "                prediction.append([row[1]['2'], word2vec.similarity(row[1]['2'], row[1]['question'])])\n",
    "\n",
    "            if row[1][\"3\"] in word2vec.key_to_index:\n",
    "                prediction.append([row[1]['3'], word2vec.similarity(row[1]['3'], row[1]['question'])])\n",
    "\n",
    "            if len(prediction)!=0:\n",
    "                guess = max(prediction, key=lambda x: x[1])\n",
    "                if guess[0] == row[1][\"answer\"]:\n",
    "                    label='correct'\n",
    "                else:\n",
    "                    label='wrong'\n",
    "            else:\n",
    "                label = 'guess'\n",
    "                guess = [row[1][str(np.random.randint(0,4))]]\n",
    "\n",
    "        else:\n",
    "            label = 'guess'\n",
    "            guess = [row[1][str(np.random.randint(0,4))]]\n",
    "        s = F\"{row[1]['question']},{row[1]['answer']},{guess[0]},{label}\"\n",
    "        L_pred.append(s)\n",
    "    performances[model] = L_pred"
   ]
  },
  {
   "cell_type": "code",
   "execution_count": null,
   "id": "e2a0245f",
   "metadata": {},
   "outputs": [],
   "source": [
    "for model in models:\n",
    "    with open(f\"{model}-details.csv\",'w') as f:\n",
    "        for pred in performances[model]:\n",
    "            f.write(pred+'\\n')"
   ]
  },
  {
   "cell_type": "code",
   "execution_count": null,
   "id": "e2a7584f",
   "metadata": {},
   "outputs": [],
   "source": [
    "performances = {model:0 for model in models}\n",
    "for i, model in enumerate(models):\n",
    "    L_pred = []\n",
    "    with open(f\"{model}-details.csv\",'r') as f:\n",
    "        for line in f.readlines():\n",
    "            L_pred.append(line.split(','))\n",
    "            L_pred[-1][-1] = L_pred[-1][-1].rstrip(\"\\n\")\n",
    "    C = list(map(lambda x:x[-1],L_pred)).count(\"correct\")\n",
    "    V = list(map(lambda x:x[-1],L_pred)).count(\"wrong\") + C\n",
    "    performances[model] = C/V\n",
    "    if i==0:\n",
    "        with open(\"analysis.csv\", \"w\") as f:\n",
    "            f.write(f\"{model},{len(word2vec.key_to_index)},{C},{V},{C/V}\\n\")\n",
    "            print(f\"{model},{len(word2vec.key_to_index)},{C},{V},{C/V}\")\n",
    "    else:\n",
    "        with open(\"analysis.csv\", \"a\") as f:\n",
    "            f.write(f\"{model},{len(word2vec.key_to_index)},{C},{V},{C/V}\\n\")\n",
    "            print(f\"{model},{len(word2vec.key_to_index)},{C},{V},{C/V}\")"
   ]
  },
  {
   "cell_type": "code",
   "execution_count": null,
   "id": "151ba53f",
   "metadata": {},
   "outputs": [],
   "source": [
    "random.seed(0)\n",
    "L_pred = list()\n",
    "for row in data.iterrows():\n",
    "    random_pred = row[1][str(random.randint(1,3))]\n",
    "    if random_pred == row[1][\"answer\"]:\n",
    "        label='correct'\n",
    "    else:\n",
    "        label='wrong'\n",
    "    s = F\"{row[1]['question']},{row[1]['answer']},{random_pred},{label}\"\n",
    "    L_pred.append(s)\n",
    "\n",
    "with open(f\"random-baseline-details.csv\",'w') as f:\n",
    "    for pred in L_pred:\n",
    "        f.write(pred+'\\n')\n",
    "        print(pred)"
   ]
  },
  {
   "cell_type": "code",
   "execution_count": null,
   "id": "6cd2ecbb",
   "metadata": {},
   "outputs": [],
   "source": [
    "with open(f\"random-baseline-details.csv\",'r') as f:\n",
    "    for line in f.readlines():\n",
    "        L_pred.append(line.split(','))\n",
    "        L_pred[-1][-1] = L_pred[-1][-1].rstrip(\"\\n\")\n",
    "C = list(map(lambda x:x[-1],L_pred)).count(\"correct\")\n",
    "V = list(map(lambda x:x[-1],L_pred)).count(\"wrong\") + C\n",
    "performances['random-baseline'] = C/V\n",
    "performances['human-gold-standard'] = 0.8557\n",
    "performances\n"
   ]
  },
  {
   "cell_type": "code",
   "execution_count": null,
   "id": "4e72ecae",
   "metadata": {},
   "outputs": [],
   "source": []
  },
  {
   "cell_type": "code",
   "execution_count": null,
   "id": "ed636679",
   "metadata": {},
   "outputs": [],
   "source": []
  }
 ],
 "metadata": {
  "kernelspec": {
   "display_name": "Python 3 (ipykernel)",
   "language": "python",
   "name": "python3"
  },
  "language_info": {
   "codemirror_mode": {
    "name": "ipython",
    "version": 3
   },
   "file_extension": ".py",
   "mimetype": "text/x-python",
   "name": "python",
   "nbconvert_exporter": "python",
   "pygments_lexer": "ipython3",
   "version": "3.9.8"
  }
 },
 "nbformat": 4,
 "nbformat_minor": 5
}
